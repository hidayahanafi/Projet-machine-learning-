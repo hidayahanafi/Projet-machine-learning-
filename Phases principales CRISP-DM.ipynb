{
 "cells": [
  {
   "cell_type": "code",
   "execution_count": null,
   "id": "ea184ccc",
   "metadata": {},
   "outputs": [],
   "source": [
    "#  CRISP-DM "
   ]
  },
  {
   "cell_type": "code",
   "execution_count": null,
   "id": "11adc097",
   "metadata": {},
   "outputs": [],
   "source": [
    "## I - Business Understanding (BU)\n",
    "\n",
    "- Compréhension du contexte : système de location de vélos en libre-service.  \n",
    "- Objectifs métier :  \n",
    "  1. *Définir les Business Objectives (BO)*  \n",
    "     - BO1 : Améliorer l’allocation des vélos pour réduire les ruptures en heure de pointe.  \n",
    "     - BO2 : Optimiser la maintenance et la rotation des vélos en identifiant des plages d’usage similaires.  \n",
    "     - BO3 : Prévoir la demande horaire pour planifier le staffing et la redistribution.  \n",
    "\n",
    "  2. *Traduire les BO en Data Science Objectives (DSO)*  \n",
    "     - DSO1 : *Prédire* la demande horaire (cnt) → Régression.  \n",
    "     - DSO2 : *Segmenter* les créneaux horaires/jours → Clustering.  \n",
    "     - DSO3 : *Classifier* les périodes en pic/non-pic → Classification binaire.  \n"
   ]
  },
  {
   "cell_type": "code",
   "execution_count": null,
   "id": "52276e11",
   "metadata": {},
   "outputs": [],
   "source": [
    "## II - Data Understanding (DU)\n",
    "\n",
    "- *Data Viz* : histogrammes, heatmaps, boxplots.  \n",
    "- *Statistiques descriptives* : moyenne, médiane, variance, corrélations.  \n",
    "- *Valeurs manquantes / aberrantes / anomalies* : détection et traitement.  \n",
    "- *Segmentation exploratoire* : groupes par heure, jour, saison.  \n",
    "- *Matrice de corrélation* pour comprendre les dépendances entre variables.  \n"
   ]
  },
  {
   "cell_type": "code",
   "execution_count": null,
   "id": "7cd81e35",
   "metadata": {},
   "outputs": [],
   "source": [
    "## III - Data Preparation (DP)\n",
    "\n",
    "Pour chaque DSO, préparer les données adaptées :\n",
    "\n",
    "1. *DSO1 – Régression*\n",
    "   - Création des features temporelles (lags t-1, t-24).\n",
    "   - Encodages cycliques (heures, mois, jours).  \n",
    "   - Normalisation et PCA.\n",
    "\n",
    "2. *DSO2 – Clustering*\n",
    "   - Réduction dimensionnelle PCA.  \n",
    "   - Sélection des features pertinentes (heures, météo, cnt).  \n",
    "\n",
    "3. *DSO3 – Classification*\n",
    "   - Définition de la cible (is_peak).  \n",
    "   - Normalisation des features.  \n"
   ]
  },
  {
   "cell_type": "code",
   "execution_count": null,
   "id": "7a0b1df1",
   "metadata": {},
   "outputs": [],
   "source": [
    "## IV - Modeling\n",
    "\n",
    "Pour chaque DSO, appliquer les méthodes adaptées :\n",
    "\n",
    "1. *DSO1 – Régression*\n",
    "   - Ridge Regression.  \n",
    "   - RandomForest Regressor.  \n",
    "   - SARIMAX baseline.  \n",
    "\n",
    "2. *DSO2 – Clustering*\n",
    "   - KMeans.  \n",
    "   - Évaluation avec silhouette score.  \n",
    "\n",
    "3. *DSO3 – Classification*\n",
    "   - RandomForestClassifier.  \n",
    "   - Autres algorithmes possibles : Logistic Regression, Gradient Boosting.  \n"
   ]
  },
  {
   "cell_type": "code",
   "execution_count": null,
   "id": "dc04891f",
   "metadata": {},
   "outputs": [],
   "source": [
    "## V - Test et Évaluation\n",
    "\n",
    "1. *DSO1 – Régression*\n",
    "   - Validation croisée (TimeSeriesSplit).  \n",
    "   - Walk-forward evaluation.  \n",
    "   - Metrics : RMSE, MAE, R².  \n",
    "\n",
    "2. *DSO2 – Clustering*\n",
    "   - Silhouette score.  \n",
    "   - Analyse des clusters (taille, profil).  \n",
    "\n",
    "3. *DSO3 – Classification*\n",
    "   - Classification report (precision, recall, f1).  \n",
    "   - Matrice de confusion.  \n"
   ]
  },
  {
   "cell_type": "code",
   "execution_count": null,
   "id": "44f22c0f",
   "metadata": {},
   "outputs": [],
   "source": [
    "## VI - Déploiement\n",
    "\n",
    "- Sauvegarde des modèles (joblib).  \n",
    "- Sauvegarde des données enrichies (CSV).  \n",
    "- Export des visualisations.  \n",
    "- Résumé des résultats finaux (results_summary.csv).  \n"
   ]
  }
 ],
 "metadata": {
  "kernelspec": {
   "display_name": "Python 3 (ipykernel)",
   "language": "python",
   "name": "python3"
  },
  "language_info": {
   "codemirror_mode": {
    "name": "ipython",
    "version": 3
   },
   "file_extension": ".py",
   "mimetype": "text/x-python",
   "name": "python",
   "nbconvert_exporter": "python",
   "pygments_lexer": "ipython3",
   "version": "3.11.3"
  }
 },
 "nbformat": 4,
 "nbformat_minor": 5
}
